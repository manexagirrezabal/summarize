{
 "cells": [
  {
   "cell_type": "code",
   "execution_count": 2,
   "id": "d4fcf632",
   "metadata": {},
   "outputs": [
    {
     "name": "stdout",
     "output_type": "stream",
     "text": [
      "{0: 0.09797302423164833, 1: 0.10526307122482623, 2: 0.10246228174840583, 3: 0.12055528867402593, 4: 0.10044293311661581, 5: 0.12536713645383576, 6: 0.11537155109042582, 7: 0.11441372531539204, 8: 0.11815098814482436}\n"
     ]
    }
   ],
   "source": [
    "#NEW VERSION\n",
    "from summarizeourversion.summarizev2 import summarize as summfun\n",
    "result_summary= summfun(\"Alice and Bob are friends. Alice is fun and cuddly.\"\n",
    "          \" Bob is cute and quirky. Together they go on wonderful\"\n",
    "          \" adventures in the land of tomorrow. Alice's cuddlines\"\n",
    "          \" and Bob's cuteness allow them to reach their goals.\"\n",
    "          \" But before they get to them, they have to go past their\"\n",
    "          \" mortal enemy - Mr. Boredom. He is ugly and mean. They\"\n",
    "          \" will surely defeat him. He is no match for their abilities.\")"
   ]
  },
  {
   "cell_type": "code",
   "execution_count": 3,
   "id": "32a97344",
   "metadata": {},
   "outputs": [
    {
     "data": {
      "text/plain": [
       "'Together they go on wonderful adventures in the land of tomorrow. But before they get to them, they have to go past their mortal enemy - Mr. Boredom. He is ugly and mean. They will surely defeat him. He is no match for their abilities.'"
      ]
     },
     "execution_count": 3,
     "metadata": {},
     "output_type": "execute_result"
    }
   ],
   "source": [
    "result_summary"
   ]
  },
  {
   "cell_type": "code",
   "execution_count": 4,
   "id": "8af9f418",
   "metadata": {},
   "outputs": [
    {
     "name": "stdout",
     "output_type": "stream",
     "text": [
      "{0: 0.1576188839567148, 1: 0.08285585593198393, 2: 0.11145934223853758, 4: 0.1480659178727639, 3: 0.125, 5: 0.125, 6: 0.125, 8: 0.125}\n"
     ]
    },
    {
     "data": {
      "text/plain": [
       "\"Alice and Bob are friends. Together they go on wonderful adventures in the land of tomorrow. Alice's cuddlines and Bob's cuteness allow them to reach their goals. But before they get to them, they have to go past their mortal enemy - Mr. Boredom. He is ugly and mean.\""
      ]
     },
     "execution_count": 4,
     "metadata": {},
     "output_type": "execute_result"
    }
   ],
   "source": [
    "#OLD VERSION\n",
    "from summarizeourversion.summarize import summarize as summfunold\n",
    "summfunold(\"Alice and Bob are friends. Alice is fun and cuddly.\"\n",
    "          \" Bob is cute and quirky. Together they go on wonderful\"\n",
    "          \" adventures in the land of tomorrow. Alice's cuddlines\"\n",
    "          \" and Bob's cuteness allow them to reach their goals.\"\n",
    "          \" But before they get to them, they have to go past their\"\n",
    "          \" mortal enemy - Mr. Boredom. He is ugly and mean. They\"\n",
    "          \" will surely defeat him. He is no match for their abilities.\")"
   ]
  },
  {
   "cell_type": "code",
   "execution_count": null,
   "id": "9b023090",
   "metadata": {},
   "outputs": [],
   "source": []
  },
  {
   "cell_type": "code",
   "execution_count": null,
   "id": "4137bd76",
   "metadata": {},
   "outputs": [],
   "source": [
    "import summarize.summarizev2\n",
    "summarize.summarizev2.model"
   ]
  },
  {
   "cell_type": "code",
   "execution_count": null,
   "id": "f572ddb3",
   "metadata": {},
   "outputs": [],
   "source": [
    "import networkx as nx\n",
    "#nx.draw (g)"
   ]
  },
  {
   "cell_type": "code",
   "execution_count": null,
   "id": "5afa069d",
   "metadata": {},
   "outputs": [],
   "source": [
    "from distance import jaccard\n",
    "from scipy.spatial.distance import cosine"
   ]
  },
  {
   "cell_type": "code",
   "execution_count": null,
   "id": "c311633e",
   "metadata": {},
   "outputs": [],
   "source": [
    "set1 = set([\"alice\",\"went\",\"home\"])\n",
    "set2 = set([\"went\",\"home\"])\n",
    "\n",
    "set1,set2"
   ]
  },
  {
   "cell_type": "code",
   "execution_count": null,
   "id": "ac0e3bbd",
   "metadata": {},
   "outputs": [],
   "source": [
    "len(set1.intersection(set2)) / len(set1.union(set2))"
   ]
  },
  {
   "cell_type": "code",
   "execution_count": null,
   "id": "53c67120",
   "metadata": {},
   "outputs": [],
   "source": [
    "jaccard(set1,set2)"
   ]
  }
 ],
 "metadata": {
  "kernelspec": {
   "display_name": "Python [conda env:gputest_new]",
   "language": "python",
   "name": "conda-env-gputest_new-py"
  },
  "language_info": {
   "codemirror_mode": {
    "name": "ipython",
    "version": 3
   },
   "file_extension": ".py",
   "mimetype": "text/x-python",
   "name": "python",
   "nbconvert_exporter": "python",
   "pygments_lexer": "ipython3",
   "version": "3.9.7"
  }
 },
 "nbformat": 4,
 "nbformat_minor": 5
}
